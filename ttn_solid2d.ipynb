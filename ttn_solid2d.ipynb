{
 "cells": [
  {
   "cell_type": "markdown",
   "metadata": {},
   "source": [
    "# TTN-based 2D solidification prediction\n",
    "\n",
    "### Authors\n",
    "\n",
    "- [Lukas M. Koschmieder](mailto:l.koschmieder@access-technology.de), Access, Intzestraße 5, 52072 Aachen, Germany\n",
    "- [Mahdi T. Rad](mailto:m.torabirad@access-technology.de), Access, Intzestraße 5, 52072 Aachen, Germany"
   ]
  },
  {
   "cell_type": "code",
   "execution_count": null,
   "metadata": {},
   "outputs": [],
   "source": [
    "config = {\n",
    "    # TTN REST API FQHN or IP address\n",
    "    'hostname' : '127.0.0.1', \n",
    "    # TTN REST API port\n",
    "    'port' : 9888, \n",
    "    # TTN REST API resource\n",
    "    'resource' : '/predict', \n",
    "    # Show additional outputs\n",
    "    'verbose' : True \n",
    "}"
   ]
  },
  {
   "cell_type": "code",
   "execution_count": null,
   "metadata": {},
   "outputs": [],
   "source": [
    "%matplotlib inline\n",
    "from ipywidgets import interactive\n",
    "import json\n",
    "import requests\n",
    "import time\n",
    "from IPython.display import clear_output\n",
    "import ipywidgets as widgets\n",
    "import numpy as np\n",
    "from scipy.interpolate import griddata\n",
    "import matplotlib.pyplot as plt\n",
    "from mpl_toolkits.mplot3d import axes3d, Axes3D\n",
    "from mpl_toolkits.axes_grid1 import make_axes_locatable\n",
    "\n",
    "def plot(x, y, u, v):\n",
    "    with output:\n",
    "        x, y, u, v = np.array(x), np.array(y), np.array(u), np.array(v)\n",
    "\n",
    "        x_coords, y_coords = np.meshgrid(y, x)\n",
    "        xy_coords = np.hstack((x_coords.flatten()[:,None], \n",
    "                               y_coords.flatten()[:,None]))\n",
    "        \n",
    "        u_grid = griddata(xy_coords, u.flatten(), \n",
    "                          (x_coords, y_coords), method='linear')\n",
    "        v_grid = griddata(xy_coords, v.flatten(), \n",
    "                          (x_coords, y_coords), method='linear')\n",
    "\n",
    "        fig, (ax1, ax2) = plt.subplots(2)\n",
    "\n",
    "        ax1.set_title('Temperature')\n",
    "        h1 = ax1.imshow(u_grid.T, interpolation='nearest', cmap=plt.cm.jet, \n",
    "                        origin='lower', aspect='equal', vmin=-1, vmax=0)\n",
    "        cax1 = make_axes_locatable(ax1).append_axes(\"right\", size=\"5%\", pad=0.1)\n",
    "        fig.colorbar(h1, cax=cax1)\n",
    "\n",
    "        ax2.set_title('Solid fraction')\n",
    "        h2 = ax2.imshow(v_grid.T, interpolation='nearest', cmap=plt.cm.jet, \n",
    "                        origin='lower', aspect='equal', vmin=0, vmax=1)\n",
    "        cax2 = make_axes_locatable(ax2).append_axes(\"right\", size=\"5%\", pad=0.1)\n",
    "        fig.colorbar(h2, cax=cax2)\n",
    "\n",
    "        plt.tight_layout()\n",
    "        plt.show()\n",
    "\n",
    "def update(t):\n",
    "    with output:\n",
    "        rtt_start = time.time()\n",
    "        try:\n",
    "            respond = requests.get(server, data={ 't': t })\n",
    "        except:\n",
    "            print(\"ERROR: TTN server does not respond: {}\".format(server))\n",
    "            raise\n",
    "        ui_rtt.value = str(time.time() - rtt_start)\n",
    "        \n",
    "        render_start = time.time()\n",
    "        out = json.loads(respond.content)\n",
    "        ui_predict.value = str(out['predict_time'])\n",
    "        plot(out['x'], out['y'], out['u'], out['v'])\n",
    "        ui_render.value = str(time.time() - render_start)    \n",
    "\n",
    "server = \"http://{hostname}:{port}{resource}\".format_map(config)\n",
    "\n",
    "ui_rtt = widgets.FloatText(description=\"RTT [s]\", disabled=True)\n",
    "ui_predict = widgets.FloatText(description=\"Prediction [s]\", disabled=True)\n",
    "ui_render = widgets.FloatText(description=\"Rendering  [s]\", disabled=True)\n",
    "ui_time = widgets.FloatSlider(description=\"Time [s]\", min=0.0, max=1.0, \n",
    "                              step=0.01, continuous_update=False)\n",
    "\n",
    "if 'verbose' in config and config['verbose']:\n",
    "    display(ui_rtt, ui_predict, ui_render)\n",
    "\n",
    "interactive_plot = interactive(update, t=ui_time)\n",
    "output = interactive_plot.children[-1]\n",
    "interactive_plot"
   ]
  }
 ],
 "metadata": {
  "authors": [
   {
    "name": "Lukas Koschmieder <l.koschmieder@access-technology.de>"
   },
   {
    "name": "Mahdi T. Rad <m.torabirad@access-technology.de>"
   }
  ],
  "kernelspec": {
   "display_name": "Python 3",
   "language": "python",
   "name": "python3"
  },
  "language_info": {
   "codemirror_mode": {
    "name": "ipython",
    "version": 3
   },
   "file_extension": ".py",
   "mimetype": "text/x-python",
   "name": "python",
   "nbconvert_exporter": "python",
   "pygments_lexer": "ipython3",
   "version": "3.6.10"
  }
 },
 "nbformat": 4,
 "nbformat_minor": 4
}
