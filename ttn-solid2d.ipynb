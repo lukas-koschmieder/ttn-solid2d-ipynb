{
 "cells": [
  {
   "cell_type": "markdown",
   "metadata": {},
   "source": [
    "# TTN-Based 2-D Solidification Prediction\n",
    "\n",
    "### Authors\n",
    "\n",
    "- [Lukas Koschmieder](mailto:l.koschmieder@access-technology.de)<br> Access e.V., Intzestr. 5, 52072 Aachen, Germany\n",
    "- [Mahdi Torabi Rad](mailto:m.torabirad@access-technology.de)<br> Access e.V., Intzestr. 5, 52072 Aachen, Germany"
   ]
  },
  {
   "cell_type": "code",
   "execution_count": null,
   "metadata": {},
   "outputs": [],
   "source": [
    "from ttn_solid2d_ipynb import Widget\n",
    "Widget(server='https://ttn-solid2d-server-qp55s54aza-ez.a.run.app/predict').display(verbose=False)"
   ]
  }
 ],
 "metadata": {
  "authors": [
   {
    "name": "Lukas Koschmieder <l.koschmieder@access-technology.de>"
   },
   {
    "name": "Mahdi T. Rad <m.torabirad@access-technology.de>"
   }
  ],
  "kernelspec": {
   "display_name": "Python 3",
   "language": "python",
   "name": "python3"
  },
  "language_info": {
   "codemirror_mode": {
    "name": "ipython",
    "version": 3
   },
   "file_extension": ".py",
   "mimetype": "text/x-python",
   "name": "python",
   "nbconvert_exporter": "python",
   "pygments_lexer": "ipython3",
   "version": "3.6.10"
  }
 },
 "nbformat": 4,
 "nbformat_minor": 4
}
